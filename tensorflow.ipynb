{
 "cells": [
  {
   "cell_type": "code",
   "execution_count": 1,
   "id": "5fee8fa4",
   "metadata": {},
   "outputs": [
    {
     "ename": "ModuleNotFoundError",
     "evalue": "No module named 'dlib'",
     "output_type": "error",
     "traceback": [
      "\u001b[1;31m---------------------------------------------------------------------------\u001b[0m",
      "\u001b[1;31mModuleNotFoundError\u001b[0m                       Traceback (most recent call last)",
      "Cell \u001b[1;32mIn[1], line 2\u001b[0m\n\u001b[0;32m      1\u001b[0m \u001b[38;5;28;01mimport\u001b[39;00m \u001b[38;5;21;01mcv2\u001b[39;00m\n\u001b[1;32m----> 2\u001b[0m \u001b[38;5;28;01mimport\u001b[39;00m \u001b[38;5;21;01mdlib\u001b[39;00m\n\u001b[0;32m      3\u001b[0m \u001b[38;5;28;01mimport\u001b[39;00m \u001b[38;5;21;01mnumpy\u001b[39;00m \u001b[38;5;28;01mas\u001b[39;00m \u001b[38;5;21;01mnp\u001b[39;00m\n\u001b[0;32m      5\u001b[0m \u001b[38;5;66;03m# Görüntüyü oku\u001b[39;00m\n",
      "\u001b[1;31mModuleNotFoundError\u001b[0m: No module named 'dlib'"
     ]
    }
   ],
   "source": [
    "import cv2\n",
    "import dlib\n",
    "import numpy as np\n",
    "\n",
    "# Görüntüyü oku\n",
    "image = cv2.imread(\"resim.jpg\")\n",
    "\n",
    "# Yüz ve yüz hatları için dlib detektörlerini yükle\n",
    "detector = dlib.get_frontal_face_detector()\n",
    "predictor = dlib.shape_predictor(\"shape_predictor_68_face_landmarks.dat\")\n",
    "\n",
    "# Yüzleri algıla\n",
    "gray = cv2.cvtColor(image, cv2.COLOR_BGR2GRAY)\n",
    "faces = detector(gray)\n",
    "\n",
    "# Başka bir yüz resmini oku\n",
    "another_face = cv2.imread(\"resim1.jpg\")\n",
    "\n",
    "# Algılanan her yüz için yüz hatlarını çıkart ve başka yüzü ekleyin\n",
    "for face in faces:\n",
    "    landmarks = predictor(gray, face)\n",
    "    \n",
    "    # Yüz hatlarını diziye dönüştür\n",
    "    landmarks = np.array([[landmarks.part(i).x, landmarks.part(i).y] for i in range(68)])\n",
    "    \n",
    "    # Başka yüzü algılanan yüzün boyutlarına uygun olarak yeniden boyutlandır\n",
    "    another_face_resized = cv2.resize(another_face, (face.width(), face.height()))\n",
    "    \n",
    "    # Yüz hatlarını çıkartıp diziye dönüştür\n",
    "    mask = np.zeros_like(image)\n",
    "    cv2.fillPoly(mask, [landmarks], (255, 255, 255))\n",
    "    \n",
    "    # Başka yüzü yüz hatlarının olduğu yere yerleştir\n",
    "    result = np.where(mask != 0, another_face_resized, image)\n",
    "    \n",
    "# Sonucu göster\n",
    "cv2.imshow(\"Yüz Algılama\", result)\n",
    "cv2.waitKey(0)\n",
    "cv2.destroyAllWindows()\n"
   ]
  },
  {
   "cell_type": "code",
   "execution_count": null,
   "id": "f478b231",
   "metadata": {},
   "outputs": [],
   "source": []
  }
 ],
 "metadata": {
  "kernelspec": {
   "display_name": "Python 3 (ipykernel)",
   "language": "python",
   "name": "python3"
  },
  "language_info": {
   "codemirror_mode": {
    "name": "ipython",
    "version": 3
   },
   "file_extension": ".py",
   "mimetype": "text/x-python",
   "name": "python",
   "nbconvert_exporter": "python",
   "pygments_lexer": "ipython3",
   "version": "3.11.4"
  }
 },
 "nbformat": 4,
 "nbformat_minor": 5
}
